{
 "cells": [
  {
   "cell_type": "code",
   "execution_count": null,
   "id": "2d45b17f",
   "metadata": {
    "vscode": {
     "languageId": "plaintext"
    }
   },
   "outputs": [],
   "source": [
    "import pandas as pd\n",
    "import matplotlib.pyplot as plt\n",
    "import seaborn as sns"
   ]
  },
  {
   "cell_type": "code",
   "execution_count": null,
   "id": "907b019c",
   "metadata": {
    "vscode": {
     "languageId": "plaintext"
    }
   },
   "outputs": [],
   "source": [
    "df = pd.read_csv('../data/Crop_recommendation.csv')\n",
    "print(df.head())\n",
    "print(\"\\n--- Data Info ---\")\n",
    "df.info()"
   ]
  },
  {
   "cell_type": "code",
   "execution_count": null,
   "id": "6ae78162",
   "metadata": {
    "vscode": {
     "languageId": "plaintext"
    }
   },
   "outputs": [],
   "source": [
    "print(\"\\n--- Crop Counts ---\")\n",
    "print(df['label'].value_counts())\n",
    "\n",
    "plt.figure(figsize=(15, 6))\n",
    "sns.countplot(y='label', data=df, palette='viridis')\n",
    "plt.title('Distribution of Crops in the Dataset')\n",
    "plt.show()"
   ]
  }
 ],
 "metadata": {
  "language_info": {
   "name": "python"
  }
 },
 "nbformat": 4,
 "nbformat_minor": 5
}
